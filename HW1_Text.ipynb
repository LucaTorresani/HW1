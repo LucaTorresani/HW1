{
 "cells": [
  {
   "cell_type": "markdown",
   "metadata": {},
   "source": [
    "# ACE 592 - \"All the President's Moods\" Assignment\n",
    "\n",
    "## Vitor Machado de Oliveira Fernandes\n",
    "    "
   ]
  },
  {
   "cell_type": "code",
   "execution_count": 7,
   "metadata": {},
   "outputs": [],
   "source": [
    "import pandas as pd\n",
    "import json \n",
    "import matplotlib.pyplot as plt\n",
    "import matplotlib\n",
    "import re\n",
    "import string\n",
    "from nltk.corpus import stopwords\n",
    "import regex\n",
    "import nltk\n",
    "from nltk.sentiment.vader import SentimentIntensityAnalyzer"
   ]
  },
  {
   "cell_type": "markdown",
   "metadata": {},
   "source": [
    "\\\n",
    "\\\n",
    "**1- Load a json file of all the president's tweets from August 30 to November 5th**.\n",
    "\n",
    "Put the following information into a dataframe: The full text of the Tweet; Any users mentioned in the Tweet. (string); The timestamp. (datetime); The date (YYYY-MM-DD) of the Tweet. (date); Retweets (numeric); Favorites (numeric); Whether the Tweet was censored, meaning zero retweets (binary/boolean)."
   ]
  },
  {
   "cell_type": "code",
   "execution_count": 51,
   "metadata": {},
   "outputs": [],
   "source": [
    "trump_twt = pd.read_json(r\"/Users/VMOF/Desktop/Ace592 hw1 data/Trump_tweets.json\")\n",
    "#trump_twt.info()\n",
    "#trump_twt.head(3)\n",
    "\n",
    "trump_twt = trump_twt.drop_duplicates(subset=['created_at', 'full_text'], keep = 'first') #droping duplicate tweets"
   ]
  },
  {
   "cell_type": "code",
   "execution_count": 27,
   "metadata": {},
   "outputs": [],
   "source": [
    "trump_twt = trump_twt.loc[:,(\"created_at\",\"full_text\",\"favorite_count\",\"retweet_count\",\"entities\")]\n",
    "trump_twt[\"censored\"] = trump_twt[\"retweet_count\"] == 0\n",
    "trump_twt.rename({\"created_at\": \"timestamp\"}, axis = 1, inplace = True)\n",
    "trump_twt[\"date\"] = trump_twt[\"timestamp\"].dt.date\n",
    "trump_twt[\"timestamp\"] = pd.to_datetime(trump_twt[\"timestamp\"])\n",
    "\n",
    "#trump_twt.head(2)"
   ]
  },
  {
   "cell_type": "markdown",
   "metadata": {},
   "source": [
    "\\\n",
    "\\\n",
    "**2- Create a \"clean_text\" column by doing the following to \"full_text\":**\n",
    "\n",
    "removing links(http), hashtags, mentions, converting text to lower case, removing punctuation."
   ]
  },
  {
   "cell_type": "code",
   "execution_count": 29,
   "metadata": {
    "collapsed": true
   },
   "outputs": [
    {
     "data": {
      "text/html": [
       "<div>\n",
       "<style scoped>\n",
       "    .dataframe tbody tr th:only-of-type {\n",
       "        vertical-align: middle;\n",
       "    }\n",
       "\n",
       "    .dataframe tbody tr th {\n",
       "        vertical-align: top;\n",
       "    }\n",
       "\n",
       "    .dataframe thead th {\n",
       "        text-align: right;\n",
       "    }\n",
       "</style>\n",
       "<table border=\"1\" class=\"dataframe\">\n",
       "  <thead>\n",
       "    <tr style=\"text-align: right;\">\n",
       "      <th></th>\n",
       "      <th>timestamp</th>\n",
       "      <th>full_text</th>\n",
       "      <th>favorite_count</th>\n",
       "      <th>retweet_count</th>\n",
       "      <th>entities</th>\n",
       "      <th>censored</th>\n",
       "      <th>date</th>\n",
       "      <th>clean_text</th>\n",
       "    </tr>\n",
       "  </thead>\n",
       "  <tbody>\n",
       "    <tr>\n",
       "      <th>0</th>\n",
       "      <td>2020-11-05 15:37:40+00:00</td>\n",
       "      <td>Fmr NV AG Laxalt: ‘No Question‘ Trump Would Ha...</td>\n",
       "      <td>124472</td>\n",
       "      <td>27745</td>\n",
       "      <td>{'hashtags': [], 'symbols': [], 'user_mentions...</td>\n",
       "      <td>False</td>\n",
       "      <td>2020-11-05</td>\n",
       "      <td>fmr nv ag laxalt no question trump would have ...</td>\n",
       "    </tr>\n",
       "    <tr>\n",
       "      <th>1</th>\n",
       "      <td>2020-11-05 15:09:19+00:00</td>\n",
       "      <td>ANY VOTE THAT CAME IN AFTER ELECTION DAY WILL ...</td>\n",
       "      <td>0</td>\n",
       "      <td>0</td>\n",
       "      <td>{'hashtags': [], 'symbols': [], 'user_mentions...</td>\n",
       "      <td>True</td>\n",
       "      <td>2020-11-05</td>\n",
       "      <td>any vote that came in after election day will ...</td>\n",
       "    </tr>\n",
       "    <tr>\n",
       "      <th>2</th>\n",
       "      <td>2020-11-05 14:12:37+00:00</td>\n",
       "      <td>STOP THE COUNT!</td>\n",
       "      <td>750449</td>\n",
       "      <td>120833</td>\n",
       "      <td>{'hashtags': [], 'symbols': [], 'user_mentions...</td>\n",
       "      <td>False</td>\n",
       "      <td>2020-11-05</td>\n",
       "      <td>stop the count</td>\n",
       "    </tr>\n",
       "  </tbody>\n",
       "</table>\n",
       "</div>"
      ],
      "text/plain": [
       "                  timestamp  \\\n",
       "0 2020-11-05 15:37:40+00:00   \n",
       "1 2020-11-05 15:09:19+00:00   \n",
       "2 2020-11-05 14:12:37+00:00   \n",
       "\n",
       "                                           full_text  favorite_count  \\\n",
       "0  Fmr NV AG Laxalt: ‘No Question‘ Trump Would Ha...          124472   \n",
       "1  ANY VOTE THAT CAME IN AFTER ELECTION DAY WILL ...               0   \n",
       "2                                    STOP THE COUNT!          750449   \n",
       "\n",
       "   retweet_count                                           entities  censored  \\\n",
       "0          27745  {'hashtags': [], 'symbols': [], 'user_mentions...     False   \n",
       "1              0  {'hashtags': [], 'symbols': [], 'user_mentions...      True   \n",
       "2         120833  {'hashtags': [], 'symbols': [], 'user_mentions...     False   \n",
       "\n",
       "         date                                         clean_text  \n",
       "0  2020-11-05  fmr nv ag laxalt no question trump would have ...  \n",
       "1  2020-11-05  any vote that came in after election day will ...  \n",
       "2  2020-11-05                                     stop the count  "
      ]
     },
     "execution_count": 29,
     "metadata": {},
     "output_type": "execute_result"
    }
   ],
   "source": [
    "#re is already imported\n",
    "trump_twt[\"clean_text\"] = trump_twt['full_text'].str.lower().str.replace(\"\\n\",\"\") #lower casing\n",
    "trump_twt[\"clean_text\"] = [re.sub(r'@\\w+', '', x) for x in trump_twt[\"clean_text\"]] #remove @s\n",
    "trump_twt[\"clean_text\"] = [re.sub(r'#\\w+', '', x) for x in trump_twt[\"clean_text\"]] #remove hashtags\n",
    "trump_twt[\"clean_text\"] = [re.sub(r\"http\\S+\", '', x) for x in trump_twt[\"clean_text\"]] #remove links\n",
    "trump_twt[\"clean_text\"] = [re.sub(r'[^\\w\\s]', '',x) for x in trump_twt[\"clean_text\"]] #removing punctuation\n",
    "\n",
    "#trump_twt.head(3) #it worked"
   ]
  },
  {
   "cell_type": "markdown",
   "metadata": {},
   "source": [
    "**Now report:**\\\n",
    "The top 10 most common words (omitting stop words).\n",
    "The top 5 Twitter accounts that are mentioned.\n",
    "The top 5 most liked (\"favorited\") tweets.\n",
    "The top 5 hashtags (hint: use a regular expression)."
   ]
  },
  {
   "cell_type": "markdown",
   "metadata": {},
   "source": [
    "**Sorting tweets by most favorited:**"
   ]
  },
  {
   "cell_type": "code",
   "execution_count": 50,
   "metadata": {
    "scrolled": true
   },
   "outputs": [
    {
     "name": "stdout",
     "output_type": "stream",
     "text": [
      "1014    Tonight, @FLOTUS and I tested positive for COV...\n",
      "1012       Going welI, I think! Thank you to all. LOVE!!!\n",
      "17      WE ARE LOOKING REALLY GOOD ALL OVER THE COUNTR...\n",
      "16       I will be making a statement tonight. A big WIN!\n",
      "24      This Tweet from @realDonaldTrump has been with...\n",
      "Name: full_text, dtype: object\n"
     ]
    }
   ],
   "source": [
    "most_liked = trump_twt.sort_values(by = \"favorite_count\", ascending = False)\n",
    "print(most_liked.full_text[0:5])"
   ]
  },
  {
   "cell_type": "markdown",
   "metadata": {},
   "source": [
    "**Top 10 most common words:**"
   ]
  },
  {
   "cell_type": "code",
   "execution_count": 44,
   "metadata": {},
   "outputs": [
    {
     "data": {
      "text/plain": [
       "biden     294.0\n",
       "great     264.0\n",
       "vote      232.0\n",
       "amp       218.0\n",
       "joe       208.0\n",
       "thank     186.0\n",
       "people    133.0\n",
       "get       120.0\n",
       "big       108.0\n",
       "trump     103.0\n",
       "dtype: float64"
      ]
     },
     "execution_count": 44,
     "metadata": {},
     "output_type": "execute_result"
    }
   ],
   "source": [
    "#top 10 most common words (- stop words)\n",
    "from nltk.corpus import stopwords\n",
    "words = [x.split(\" \") for x in trump_twt[\"clean_text\"]]\n",
    "sw_list = stopwords.words('english') + [\" \", '']\n",
    "words_list = [pd.Series(x).value_counts() for x in words]\n",
    "word_df = pd.concat(words_list,axis=1).fillna(0).T\n",
    "\n",
    "# removing stopwords:\n",
    "words_nsw = word_df.loc[:,~word_df.T.index.isin(sw_list)]\n",
    "\n",
    "words_nsw.sum().sort_values(ascending=False).head(10)"
   ]
  },
  {
   "cell_type": "markdown",
   "metadata": {},
   "source": [
    "**Top five hashtags:**"
   ]
  },
  {
   "cell_type": "code",
   "execution_count": 45,
   "metadata": {
    "scrolled": true
   },
   "outputs": [
    {
     "data": {
      "text/plain": [
       "#MAGA                     116\n",
       "#VOTE                       8\n",
       "#MakeAmericaGreatAgain      7\n",
       "#2A                         7\n",
       "#TrumpPence2020             4\n",
       "Name: full_text, dtype: int64"
      ]
     },
     "execution_count": 45,
     "metadata": {},
     "output_type": "execute_result"
    }
   ],
   "source": [
    "#Came to the conclusion that using \"full_text\" instead of entities is easier.\n",
    "\n",
    "counts = trump_twt[\"full_text\"].str.findall(r'(#\\w+)').explode().value_counts()\n",
    "counts.head(5)"
   ]
  },
  {
   "cell_type": "markdown",
   "metadata": {},
   "source": [
    "**Top 5 twitter accounts mentioned:**"
   ]
  },
  {
   "cell_type": "code",
   "execution_count": 46,
   "metadata": {
    "scrolled": true
   },
   "outputs": [
    {
     "data": {
      "text/plain": [
       "@BreitbartNews    49\n",
       "@FoxNews          31\n",
       "@OANN             10\n",
       "@CNN               8\n",
       "@cspan             8\n",
       "Name: full_text, dtype: int64"
      ]
     },
     "execution_count": 46,
     "metadata": {},
     "output_type": "execute_result"
    }
   ],
   "source": [
    "counts2 = trump_twt[\"full_text\"].str.findall(r'(@\\w+)').explode().value_counts()\n",
    "counts2.head(5)"
   ]
  },
  {
   "cell_type": "markdown",
   "metadata": {},
   "source": [
    "\\\n",
    "\\\n",
    "**3- Graph the daily volume of tweets over time, while annotating any major events.**"
   ]
  },
  {
   "cell_type": "code",
   "execution_count": 47,
   "metadata": {},
   "outputs": [],
   "source": [
    "plot_data = trump_twt.groupby([\"date\"]).count()"
   ]
  },
  {
   "cell_type": "code",
   "execution_count": 59,
   "metadata": {},
   "outputs": [
    {
     "data": {
      "text/plain": [
       "Text(0, 0.5, '# of tweets')"
      ]
     },
     "execution_count": 59,
     "metadata": {},
     "output_type": "execute_result"
    },
    {
     "data": {
      "image/png": "[encoded data removed]",
      "text/plain": [
       "<Figure size 1440x432 with 1 Axes>"
      ]
     },
     "metadata": {
      "needs_background": "light"
     },
     "output_type": "display_data"
    }
   ],
   "source": [
    "plot_data[\"full_text\"].plot(kind='bar',figsize=(20,6),legend=None) #now find a way of annotating major events - maybe use plt.xticks((old),(new))\n",
    "plt.title(\"Daily number of Trump tweets, aug-30-2020 to nov-05-2020\")\n",
    "plt.ylabel(\"# of tweets\")\n",
    "\n",
    "# label_list = [\n",
    "#     (pd.to_datetime(\"2020-11-3\"), 'Election day', 'y'),\n",
    "#     (pd.to_datetime(\"2020-10-1\"), \"Trump gets COVID\", 'b'),\n",
    "#     (pd.to_datetime(\"2020-9-27\"), \"1st Debate\", 'g'),\n",
    "#     (pd.to_datetime(\"2020-10-7\"), \"2nd Debate\", 'g'),\n",
    "#     (pd.to_datetime(\"2020-10-22\"), \"3rd Debate\", 'g')\n",
    "# ]\n",
    "\n",
    "# ax = plt.gca()\n",
    "\n",
    "# for date_point, label, clr in label_list:\n",
    "#     plt.axvline(x=date_point, color=clr)\n",
    "#     plt.text(date_point, ax.get_ylim()[1]-4, label,\n",
    "#              horizontalalignment='center',\n",
    "#              verticalalignment='center',\n",
    "#              color=clr,\n",
    "#              bbox=dict(facecolor='white', alpha=0.9)) ##DIDNT WORK\n"
   ]
  },
  {
   "cell_type": "markdown",
   "metadata": {},
   "source": [
    "\\\n",
    "\\\n",
    "**4 - Run the tweets through sentiment analysis, and report:** \\\n",
    "The 20 most \"negative\" and \"positive\" words.\n",
    "A graph of the sentiment over time."
   ]
  },
  {
   "cell_type": "code",
   "execution_count": 39,
   "metadata": {},
   "outputs": [],
   "source": [
    "sid = SentimentIntensityAnalyzer()"
   ]
  },
  {
   "cell_type": "code",
   "execution_count": 55,
   "metadata": {},
   "outputs": [],
   "source": [
    "trump_twt[\"sentiment\"] = [sid.polarity_scores(x)['compound'] for x in trump_twt[\"full_text\"]]"
   ]
  },
  {
   "cell_type": "code",
   "execution_count": 64,
   "metadata": {},
   "outputs": [
    {
     "data": {
      "text/html": [
       "<div>\n",
       "<style scoped>\n",
       "    .dataframe tbody tr th:only-of-type {\n",
       "        vertical-align: middle;\n",
       "    }\n",
       "\n",
       "    .dataframe tbody tr th {\n",
       "        vertical-align: top;\n",
       "    }\n",
       "\n",
       "    .dataframe thead th {\n",
       "        text-align: right;\n",
       "    }\n",
       "</style>\n",
       "<table border=\"1\" class=\"dataframe\">\n",
       "  <thead>\n",
       "    <tr style=\"text-align: right;\">\n",
       "      <th></th>\n",
       "      <th>date</th>\n",
       "      <th>full_text</th>\n",
       "      <th>sentiment</th>\n",
       "    </tr>\n",
       "  </thead>\n",
       "  <tbody>\n",
       "    <tr>\n",
       "      <th>0</th>\n",
       "      <td>2020-11-05</td>\n",
       "      <td>fmr nv ag laxalt no question trump would have ...</td>\n",
       "      <td>0.6249</td>\n",
       "    </tr>\n",
       "    <tr>\n",
       "      <th>1</th>\n",
       "      <td>2020-11-05</td>\n",
       "      <td>any vote that came in after election day will ...</td>\n",
       "      <td>0.0000</td>\n",
       "    </tr>\n",
       "    <tr>\n",
       "      <th>2</th>\n",
       "      <td>2020-11-05</td>\n",
       "      <td>stop the count</td>\n",
       "      <td>-0.2960</td>\n",
       "    </tr>\n",
       "    <tr>\n",
       "      <th>3</th>\n",
       "      <td>2020-11-05</td>\n",
       "      <td>detroit absentee ballot counting chaos blocked...</td>\n",
       "      <td>-0.7845</td>\n",
       "    </tr>\n",
       "  </tbody>\n",
       "</table>\n",
       "</div>"
      ],
      "text/plain": [
       "         date                                          full_text  sentiment\n",
       "0  2020-11-05  fmr nv ag laxalt no question trump would have ...     0.6249\n",
       "1  2020-11-05  any vote that came in after election day will ...     0.0000\n",
       "2  2020-11-05                                     stop the count    -0.2960\n",
       "3  2020-11-05  detroit absentee ballot counting chaos blocked...    -0.7845"
      ]
     },
     "execution_count": 64,
     "metadata": {},
     "output_type": "execute_result"
    }
   ],
   "source": [
    "#plotsentiments\n",
    "\n",
    "trump_twt[[\"date\", \"full_text\", \"sentiment\"]].head(4) #that's not what i want"
   ]
  },
  {
   "cell_type": "code",
   "execution_count": 65,
   "metadata": {},
   "outputs": [],
   "source": [
    "words_sentiment = [sid.polarity_scores(x)['compound'] for x in words_nsw]"
   ]
  },
  {
   "cell_type": "markdown",
   "metadata": {},
   "source": [
    "**5 - Trump and the Stock Market**\n",
    "\n",
    "Read in the time series dataset of S&P 500 closing, daily prices. Then merge this data to Trump's daily sentiment scores. Graph both of them (EXTRA CREDIT GRAPH), calculate their correlation, and interpret what you see.\n",
    "\n",
    "Since Trump often comments on the stock market but the stock market may also react to his tweets, it is not clear how the causal relationship should work. Describe in detail how you would answer the question: \"Did President Trump's tweet sentiment influence the stock market?\" Specifically describe:\n",
    "\n",
    "The data you would need in addition to these data sources.\n",
    "The way you would read in the data and manipulate it.\n",
    "The sort of analysis or statistics you would calculate to answer the question."
   ]
  },
  {
   "cell_type": "code",
   "execution_count": 72,
   "metadata": {},
   "outputs": [],
   "source": [
    "stock_prices = pd.read_csv(r\"/Users/VMOF/Desktop/Ace592 hw1 data/SandP500.csv\", delimiter = ',')\n",
    "stock_prices = stock_prices.rename(columns={'DATE':'date', 'SP500':'sp500'})\n",
    "stock_prices[\"date\"] = pd.to_datetime(stock_prices[\"date\"])\n",
    "\n",
    "stock_prices = stock_prices[(stock_prices['date'] > '2020-08-30') & (stock_prices['date'] < '2020-11-05')]\n",
    "stock_prices = stock_prices.drop(stock_prices[stock_prices.sp500 == '.'].index)\n",
    "stock_prices[\"sp500\"] = pd.to_numeric(stock_prices[\"sp500\"])\n",
    "stock_prices = stock_prices.set_index(stock_prices['date'])"
   ]
  },
  {
   "cell_type": "code",
   "execution_count": 77,
   "metadata": {},
   "outputs": [
    {
     "data": {
      "text/plain": [
       "<Figure size 1224x720 with 0 Axes>"
      ]
     },
     "metadata": {},
     "output_type": "display_data"
    },
    {
     "data": {
      "image/png": "[encoded data removed]",
      "text/plain": [
       "<Figure size 432x288 with 2 Axes>"
      ]
     },
     "metadata": {
      "needs_background": "light"
     },
     "output_type": "display_data"
    }
   ],
   "source": [
    "plt.figure(figsize=(17,10))\n",
    "ax1 = plot_data.plot(color='red', label='Tweet count')\n",
    "ax2 = stock_prices.sp500.plot(color='blue', label='S&P500', secondary_y=True)\n",
    "\n",
    "h1, l1 = ax1.get_legend_handles_labels()\n",
    "h2, l2 = ax2.get_legend_handles_labels()\n",
    "\n",
    "plt.legend(h1+h2, l1+l2, loc=2)\n",
    "plt.show()\n"
   ]
  },
  {
   "cell_type": "code",
   "execution_count": null,
   "metadata": {},
   "outputs": [],
   "source": []
  }
 ],
 "metadata": {
  "kernelspec": {
   "display_name": "Python 3",
   "language": "python",
   "name": "python3"
  },
  "language_info": {
   "codemirror_mode": {
    "name": "ipython",
    "version": 3
   },
   "file_extension": ".py",
   "mimetype": "text/x-python",
   "name": "python",
   "nbconvert_exporter": "python",
   "pygments_lexer": "ipython3",
   "version": "3.8.5"
  }
 },
 "nbformat": 4,
 "nbformat_minor": 4
}
